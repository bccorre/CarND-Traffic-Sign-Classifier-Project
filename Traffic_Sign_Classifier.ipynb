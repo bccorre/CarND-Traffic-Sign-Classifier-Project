{
 "cells": [
  {
   "cell_type": "markdown",
   "metadata": {},
   "source": [
    "# Self-Driving Car Engineer Nanodegree\n",
    "\n",
    "## Deep Learning\n",
    "\n",
    "## Project: Build a Traffic Sign Recognition Classifier\n",
    "\n",
    "In this notebook, a template is provided for you to implement your functionality in stages, which is required to successfully complete this project. If additional code is required that cannot be included in the notebook, be sure that the Python code is successfully imported and included in your submission if necessary. \n",
    "\n",
    "> **Note**: Once you have completed all of the code implementations, you need to finalize your work by exporting the iPython Notebook as an HTML document. Before exporting the notebook to html, all of the code cells need to have been run so that reviewers can see the final implementation and output. You can then export the notebook by using the menu above and navigating to  \\n\",\n",
    "    \"**File -> Download as -> HTML (.html)**. Include the finished document along with this notebook as your submission. \n",
    "\n",
    "In addition to implementing code, there is a writeup to complete. The writeup should be completed in a separate file, which can be either a markdown file or a pdf document. There is a [write up template](https://github.com/udacity/CarND-Traffic-Sign-Classifier-Project/blob/master/writeup_template.md) that can be used to guide the writing process. Completing the code template and writeup template will cover all of the [rubric points](https://review.udacity.com/#!/rubrics/481/view) for this project.\n",
    "\n",
    "The [rubric](https://review.udacity.com/#!/rubrics/481/view) contains \"Stand Out Suggestions\" for enhancing the project beyond the minimum requirements. The stand out suggestions are optional. If you decide to pursue the \"stand out suggestions\", you can include the code in this Ipython notebook and also discuss the results in the writeup file.\n",
    "\n",
    "\n",
    ">**Note:** Code and Markdown cells can be executed using the **Shift + Enter** keyboard shortcut. In addition, Markdown cells can be edited by typically double-clicking the cell to enter edit mode."
   ]
  },
  {
   "cell_type": "markdown",
   "metadata": {},
   "source": [
    "---\n",
    "## Step 0: Load The Data"
   ]
  },
  {
   "cell_type": "code",
   "execution_count": 1,
   "metadata": {
    "collapsed": true
   },
   "outputs": [],
   "source": [
    "# Load pickled data\n",
    "import pickle\n",
    "from sklearn.model_selection import train_test_split\n",
    "\n",
    "# Load training, validation and test data\n",
    "\n",
    "training_file = \"train.p\"\n",
    "testing_file = \"test.p\"\n",
    "\n",
    "with open(training_file, mode='rb') as f:\n",
    "    train = pickle.load(f)\n",
    "with open(testing_file, mode='rb') as f:\n",
    "    test = pickle.load(f)\n",
    "    \n",
    "x_train, x_valid, y_train, y_valid = train_test_split(train['features'], train['labels'], test_size=0.2, random_state=0)\n",
    "x_test, y_test = test['features'], test['labels']"
   ]
  },
  {
   "cell_type": "markdown",
   "metadata": {},
   "source": [
    "---\n",
    "\n",
    "## Step 1: Dataset Summary & Exploration\n",
    "\n",
    "The pickled data is a dictionary with 4 key/value pairs:\n",
    "\n",
    "- `'features'` is a 4D array containing raw pixel data of the traffic sign images, (num examples, width, height, channels).\n",
    "- `'labels'` is a 1D array containing the label/class id of the traffic sign. The file `signnames.csv` contains id -> name mappings for each id.\n",
    "- `'sizes'` is a list containing tuples, (width, height) representing the original width and height the image.\n",
    "- `'coords'` is a list containing tuples, (x1, y1, x2, y2) representing coordinates of a bounding box around the sign in the image. **THESE COORDINATES ASSUME THE ORIGINAL IMAGE. THE PICKLED DATA CONTAINS RESIZED VERSIONS (32 by 32) OF THESE IMAGES**\n",
    "\n",
    "Complete the basic data summary below. Use python, numpy and/or pandas methods to calculate the data summary rather than hard coding the results. For example, the [pandas shape method](http://pandas.pydata.org/pandas-docs/stable/generated/pandas.DataFrame.shape.html) might be useful for calculating some of the summary results. "
   ]
  },
  {
   "cell_type": "markdown",
   "metadata": {},
   "source": [
    "### Provide a Basic Summary of the Data Set Using Python, Numpy and/or Pandas"
   ]
  },
  {
   "cell_type": "code",
   "execution_count": 2,
   "metadata": {},
   "outputs": [
    {
     "name": "stdout",
     "output_type": "stream",
     "text": [
      "Number of training examples = 27839\n",
      "Number of validating examples = 6960\n",
      "Number of testing examples = 12630\n",
      "Image data shape = (32, 32, 3)\n",
      "Number of classes = 43\n"
     ]
    }
   ],
   "source": [
    "### Replace each question mark with the appropriate value. \n",
    "### Use python, pandas or numpy methods rather than hard coding the results\n",
    "\n",
    "# TODO: Number of training examples\n",
    "n_train = len(x_train)\n",
    "\n",
    "# TODO: Number of validation examples\n",
    "n_validation = len(x_valid)\n",
    "\n",
    "# TODO: Number of testing examples.\n",
    "n_test = len(x_test)\n",
    "\n",
    "# TODO: What's the shape of an traffic sign image?\n",
    "image_shape = x_train[0].shape\n",
    "\n",
    "# TODO: How many unique classes/labels there are in the dataset.\n",
    "n_classes = len(set(y_train))\n",
    "\n",
    "print(\"Number of training examples =\", n_train)\n",
    "print(\"Number of validating examples =\", n_validation)\n",
    "print(\"Number of testing examples =\", n_test)\n",
    "print(\"Image data shape =\", image_shape)\n",
    "print(\"Number of classes =\", n_classes)"
   ]
  },
  {
   "cell_type": "markdown",
   "metadata": {},
   "source": [
    "### Include an exploratory visualization of the dataset"
   ]
  },
  {
   "cell_type": "markdown",
   "metadata": {},
   "source": [
    "Visualize the German Traffic Signs Dataset using the pickled file(s). This is open ended, suggestions include: plotting traffic sign images, plotting the count of each sign, etc. \n",
    "\n",
    "The [Matplotlib](http://matplotlib.org/) [examples](http://matplotlib.org/examples/index.html) and [gallery](http://matplotlib.org/gallery.html) pages are a great resource for doing visualizations in Python.\n",
    "\n",
    "**NOTE:** It's recommended you start with something simple first. If you wish to do more, come back to it after you've completed the rest of the sections. It can be interesting to look at the distribution of classes in the training, validation and test set. Is the distribution the same? Are there more examples of some classes than others?"
   ]
  },
  {
   "cell_type": "code",
   "execution_count": 3,
   "metadata": {},
   "outputs": [
    {
     "name": "stdout",
     "output_type": "stream",
     "text": [
      "18\n"
     ]
    },
    {
     "data": {
      "image/png": "[encoded data removed]",
      "text/plain": [
       "<matplotlib.figure.Figure at 0x21210cd4ba8>"
      ]
     },
     "metadata": {},
     "output_type": "display_data"
    }
   ],
   "source": [
    "### Data exploration visualization code goes here.\n",
    "### Feel free to use as many code cells as needed.\n",
    "import random\n",
    "import numpy as np\n",
    "import matplotlib.pyplot as plt\n",
    "%matplotlib inline\n",
    "\n",
    "index = random.randint(0, len(x_train))\n",
    "image = x_train[index].squeeze()\n",
    "\n",
    "plt.figure(figsize=(1,1))\n",
    "plt.imshow(image)\n",
    "print(y_train[index])"
   ]
  },
  {
   "cell_type": "code",
   "execution_count": 4,
   "metadata": {},
   "outputs": [
    {
     "data": {
      "image/png": "[encoded data removed]",
      "text/plain": [
       "<matplotlib.figure.Figure at 0x21210c61908>"
      ]
     },
     "metadata": {},
     "output_type": "display_data"
    },
    {
     "data": {
      "image/png": "[encoded data removed]",
      "text/plain": [
       "<matplotlib.figure.Figure at 0x21213d77898>"
      ]
     },
     "metadata": {},
     "output_type": "display_data"
    },
    {
     "data": {
      "image/png": "[encoded data removed]",
      "text/plain": [
       "<matplotlib.figure.Figure at 0x21213e8d518>"
      ]
     },
     "metadata": {},
     "output_type": "display_data"
    }
   ],
   "source": [
    "# Plot a graph with the distribution of examples by the traffics signs in the training set\n",
    "plot_training = []\n",
    "plot_valid = []\n",
    "plot_test = []\n",
    "for i in range(0,42):\n",
    "    plot_training.append(np.count_nonzero(y_train==i))\n",
    "    plot_valid.append(np.count_nonzero(y_valid==i))\n",
    "    plot_test.append(np.count_nonzero(y_test==i))\n",
    "\n",
    "fig = plt.figure()\n",
    "x_plot = range(42)\n",
    "plt.title('Training set examples by traffic sign number')\n",
    "plt.bar(x_plot, plot_training, color=\"blue\")\n",
    "fig.savefig('trainingBarPlot.png')\n",
    "fig2 = plt.figure()\n",
    "plt.title('Validation set examples by traffic sign number')\n",
    "plt.bar(x_plot, plot_valid, color=\"green\")\n",
    "fig2.savefig('validationBarPlot.png')\n",
    "fig3 = plt.figure()\n",
    "plt.title('Test set examples by traffic sign number')\n",
    "plt.bar(x_plot, plot_test, color=\"red\")\n",
    "fig3.savefig('validationBarPlot.png')\n"
   ]
  },
  {
   "cell_type": "markdown",
   "metadata": {},
   "source": [
    "As can be seen in the distribution above, the training set do not contain an evenly distributed set of traffic signs. There are many signs with too many examples (around 1400) and other with almost 10 times less. The training set could be enhanced by rotating some images and/or looking for more signs that has relatively low numbers. Other observation could be that the training, validation and test set have almost the same amount (visually) of examples of signs. This could result in a poor performance on real traffic signs."
   ]
  },
  {
   "cell_type": "markdown",
   "metadata": {},
   "source": [
    "----\n",
    "\n",
    "## Step 2: Design and Test a Model Architecture\n",
    "\n",
    "Design and implement a deep learning model that learns to recognize traffic signs. Train and test your model on the [German Traffic Sign Dataset](http://benchmark.ini.rub.de/?section=gtsrb&subsection=dataset).\n",
    "\n",
    "The LeNet-5 implementation shown in the [classroom](https://classroom.udacity.com/nanodegrees/nd013/parts/fbf77062-5703-404e-b60c-95b78b2f3f9e/modules/6df7ae49-c61c-4bb2-a23e-6527e69209ec/lessons/601ae704-1035-4287-8b11-e2c2716217ad/concepts/d4aca031-508f-4e0b-b493-e7b706120f81) at the end of the CNN lesson is a solid starting point. You'll have to change the number of classes and possibly the preprocessing, but aside from that it's plug and play! \n",
    "\n",
    "With the LeNet-5 solution from the lecture, you should expect a validation set accuracy of about 0.89. To meet specifications, the validation set accuracy will need to be at least 0.93. It is possible to get an even higher accuracy, but 0.93 is the minimum for a successful project submission. \n",
    "\n",
    "There are various aspects to consider when thinking about this problem:\n",
    "\n",
    "- Neural network architecture (is the network over or underfitting?)\n",
    "- Play around preprocessing techniques (normalization, rgb to grayscale, etc)\n",
    "- Number of examples per label (some have more than others).\n",
    "- Generate fake data.\n",
    "\n",
    "Here is an example of a [published baseline model on this problem](http://yann.lecun.com/exdb/publis/pdf/sermanet-ijcnn-11.pdf). It's not required to be familiar with the approach used in the paper but, it's good practice to try to read papers like these."
   ]
  },
  {
   "cell_type": "markdown",
   "metadata": {},
   "source": [
    "### Pre-process the Data Set (normalization, grayscale, etc.)"
   ]
  },
  {
   "cell_type": "markdown",
   "metadata": {},
   "source": [
    "Minimally, the image data should be normalized so that the data has mean zero and equal variance. For image data, `(pixel - 128)/ 128` is a quick way to approximately normalize the data and can be used in this project. \n",
    "\n",
    "Other pre-processing steps are optional. You can try different techniques to see if it improves performance. \n",
    "\n",
    "The image in training, validation and test sets are normalized using grayscale, defined by the  methos normalize_grayscale in the code below."
   ]
  },
  {
   "cell_type": "code",
   "execution_count": 5,
   "metadata": {},
   "outputs": [
    {
     "data": {
      "image/png": "[encoded data removed]",
      "text/plain": [
       "<matplotlib.figure.Figure at 0x21213ee6da0>"
      ]
     },
     "metadata": {},
     "output_type": "display_data"
    }
   ],
   "source": [
    "### Preprocess the data here. It is required to normalize the data. Other preprocessing steps could include \n",
    "### converting to grayscale, etc.\n",
    "### Feel free to use as many code cells as needed.\n",
    "from sklearn.utils import shuffle\n",
    "from skimage import exposure\n",
    "\n",
    "###shuffle training data and normalize training images\n",
    "x_train, y_train = shuffle(x_train, y_train)\n",
    "\n",
    "def preprocess_dataset(X):\n",
    "    #Convert to grayscale, e.g.l\n",
    "    X = 0.299 * X[:, :, :, 0] + 0.587 * X[:, :, :, 1] + 0.114 * X[:, :, :, 2]\n",
    "    #Scale features to be in [0, 1]\n",
    "    X = (X / 255.).astype(np.float32)\n",
    "        \n",
    "    # Add a single grayscale channel\n",
    "    X = X.reshape(X.shape + (1,)) \n",
    "    return X\n",
    "\n",
    "x_train = preprocess_dataset(x_train)\n",
    "x_test = preprocess_dataset(x_test)\n",
    "x_valid = preprocess_dataset(x_valid)\n",
    "\n",
    "fig4 = plt.figure()\n",
    "plt.title('Traffic sign after grayscale operation')\n",
    "index = random.randint(0, len(x_train))\n",
    "image = x_train[index].squeeze()\n",
    "plt.imshow(image)\n",
    "fig4.savefig('imageAfterGrayscale.png')"
   ]
  },
  {
   "cell_type": "markdown",
   "metadata": {},
   "source": [
    "### Model Architecture\n",
    "\n",
    "#### Setup TensorFlow\n",
    "The `EPOCH` and `BATCH_SIZE` values affect the training speed and model accuracy.\n"
   ]
  },
  {
   "cell_type": "code",
   "execution_count": 6,
   "metadata": {},
   "outputs": [],
   "source": [
    "### Define your architecture here.\n",
    "### Feel free to use as many code cells as needed.\n",
    "import tensorflow as tf\n",
    "\n",
    "EPOCHS = 20\n",
    "BATCH_SIZE = 256"
   ]
  },
  {
   "cell_type": "markdown",
   "metadata": {},
   "source": [
    "#### Implement LeNet-5\n",
    "Implement the [LeNet-5](http://yann.lecun.com/exdb/lenet/) neural network architecture.\n",
    "\n",
    "This is the only cell you need to edit.\n",
    "##### Input\n",
    "The LeNet architecture accepts a 32x32xC image as input, where C is the number of color channels. C is 1 in this case.\n",
    "\n",
    "##### Architecture\n",
    "**Layer 1: Convolutional.** The output shape should be 28x28x16.\n",
    "\n",
    "**Activation.** Using relu as activation function.\n",
    "\n",
    "**Pooling.** The output shape should be 14x14x16.\n",
    "\n",
    "**Dropout.** Using dropout after the first convolutional layer.\n",
    "\n",
    "**Layer 2: Convolutional.** The output shape should be 10x10x32.\n",
    "\n",
    "**Activation.** Using relu as activation function.\n",
    "\n",
    "**Pooling.** The output shape should be 5x5x32.\n",
    "\n",
    "**Flatten.** Flatten the output shape of the final pooling layer such that it's 1D instead of 3D. The easiest way to do is by using `tf.contrib.layers.flatten`, which is already imported for you.\n",
    "\n",
    "**Dropout.** Using dropout after the second convolutional layer.\n",
    "\n",
    "**Layer 3: Fully Connected.** This should have 400 outputs.\n",
    "\n",
    "**Activation.** Using relu as activation function.\n",
    "\n",
    "**Dropout.** Using dropout after the first fully connected layer.\n",
    "\n",
    "**Layer 4: Fully Connected.** This should have 120 outputs.\n",
    "\n",
    "**Activation.** Using relu as activation function.\n",
    "\n",
    "**Dropout.** Using dropout after the second fully connected layer.\n",
    "\n",
    "**Layer 5: Fully Connected (Logits).** This should have 43 outputs.\n",
    "\n",
    "**Regularization.** Regularization considers all weights from every layer using l2 norm.\n",
    "\n",
    "##### Output\n",
    "Return the result of the 2nd fully connected layer, and the l2 norm regularization parameter."
   ]
  },
  {
   "cell_type": "code",
   "execution_count": 7,
   "metadata": {},
   "outputs": [],
   "source": [
    "# Declaring dropout parameters for each layer\n",
    "keep_prob_l1 = tf.placeholder(tf.float32)\n",
    "keep_prob_l2 = tf.placeholder(tf.float32)\n",
    "keep_prob_l3 = tf.placeholder(tf.float32)\n",
    "keep_prob_l4 = tf.placeholder(tf.float32)\n",
    "\n",
    "def LeNet(x):    \n",
    "    # Arguments used for tf.truncated_normal, randomly defines variables for the weights and biases for each layer\n",
    "    mu = 0\n",
    "    sigma = 0.1\n",
    "    padding = 'VALID'\n",
    "    \n",
    "    # Layer 1: Convolutional. Input = 32x32x1. Output = 28x28x16.\n",
    "    F_W_1 = tf.Variable(tf.truncated_normal((5, 5, 1, 16),mu,sigma),name='conv1_W')\n",
    "    F_b_1 = tf.Variable(tf.zeros(16))\n",
    "    strides_1 = [1, 1, 1, 1]\n",
    "    conv1 =  tf.nn.conv2d(x, F_W_1, strides_1, padding) + F_b_1\n",
    "\n",
    "    # Activation\n",
    "    act1 = tf.nn.relu(conv1)\n",
    "    \n",
    "    # Applying dropout for first layer -- convolutional\n",
    "    l1_out = tf.nn.dropout(act1,keep_prob_l1)\n",
    "\n",
    "    # Pooling. Input = 28x28x16. Output = 14x14x16.\n",
    "    ksize = [1, 2, 2, 1]\n",
    "    strides = [1, 2, 2, 1]\n",
    "    fc2 = tf.nn.max_pool(l1_out, ksize, strides, padding)\n",
    "\n",
    "    # Layer 2: Convolutional. Output = 10x10x32.\n",
    "    F_W_2 = tf.Variable(tf.truncated_normal((5, 5, 16, 32),mu,sigma),name='conv2_W')\n",
    "    F_b_2 = tf.Variable(tf.zeros(32))\n",
    "    strides_2 = [1, 1, 1, 1]\n",
    "    conv2 =  tf.nn.conv2d(fc2, F_W_2, strides_2, padding) + F_b_2\n",
    "    \n",
    "    # Activation.\n",
    "    act2 = tf.nn.relu(conv2)\n",
    "\n",
    "    # Pooling. Input = 10x10x32. Output = 5x5x32.\n",
    "    ksize_2 = [1,2,2,1]\n",
    "    strides_2 = [1,2,2,1]\n",
    "    pool2 = tf.nn.max_pool(act2,ksize_2,strides_2,padding)\n",
    "\n",
    "    # Flatten. Input = 5x5x32. Output = 800.\n",
    "    fc2 = tf.contrib.layers.flatten(pool2)\n",
    "    \n",
    "    # Applying dropout for second layer -- convolutional with maxpooling\n",
    "    l2_out = tf.nn.dropout(fc2,keep_prob_l2)\n",
    "    \n",
    "    # Layer 3: Fully Connected. Input = 800. Output = 400.\n",
    "    F_W_3 = tf.Variable(tf.truncated_normal((800,400),mu,sigma),name='conv3_W')\n",
    "    F_b_3 = tf.Variable(tf.zeros(400))\n",
    "    conv3 = tf.add(tf.matmul(l2_out, F_W_3), F_b_3)\n",
    "    \n",
    "    # Activation.\n",
    "    fc3 = tf.nn.relu(conv3)\n",
    "    \n",
    "    # Applying dropout for third layer -- fully connected\n",
    "    l3_out = tf.nn.dropout(fc3,keep_prob_l3)\n",
    "\n",
    "    # Layer 4: Fully Connected. Input = 400. Output = 120.\n",
    "    F_W_4 = tf.Variable(tf.truncated_normal((400,120),mu,sigma),name='conv4_W')\n",
    "    F_b_4 = tf.Variable(tf.zeros(120))\n",
    "    conv4 = tf.add(tf.matmul(l3_out, F_W_4), F_b_4)\n",
    "    \n",
    "    # Activation.\n",
    "    fc4 = tf.nn.relu(conv4)\n",
    "    \n",
    "    # Applying dropout for fourth layer -- fully connected\n",
    "    l4_out = tf.nn.dropout(fc4,keep_prob_l4)\n",
    "\n",
    "    # Layer 5: Fully Connected. Input = 120. Output = 43.\n",
    "    F_W_out = tf.Variable(tf.truncated_normal((120,43),mu,sigma))\n",
    "    F_b_out = tf.Variable(tf.zeros(43))\n",
    "    logits = tf.add(tf.matmul(l4_out, F_W_out), F_b_out)\n",
    "    \n",
    "    #regularization term\n",
    "    regularizer = tf.nn.l2_loss(F_W_out) + tf.nn.l2_loss(F_W_4) + tf.nn.l2_loss(F_W_3) + tf.nn.l2_loss(F_W_2) + tf.nn.l2_loss(F_W_1)\n",
    "    \n",
    "    return logits, regularizer"
   ]
  },
  {
   "cell_type": "markdown",
   "metadata": {},
   "source": [
    "#### Features and Labels\n",
    "Train LeNet to classify german traffic data.\n",
    "\n",
    "`x` is a placeholder for a batch of input images.\n",
    "`y` is a placeholder for a batch of output labels."
   ]
  },
  {
   "cell_type": "code",
   "execution_count": 8,
   "metadata": {
    "collapsed": true
   },
   "outputs": [],
   "source": [
    "x = tf.placeholder(tf.float32, (None, 32, 32, 1))\n",
    "y = tf.placeholder(tf.int32, (None))\n",
    "one_hot_y = tf.one_hot(y, 43)"
   ]
  },
  {
   "cell_type": "markdown",
   "metadata": {},
   "source": [
    "#### Training Pipeline\n",
    "Create a training pipeline that uses the model to classify german traffic data."
   ]
  },
  {
   "cell_type": "code",
   "execution_count": 9,
   "metadata": {},
   "outputs": [],
   "source": [
    "rate = 0.001\n",
    "beta = 0.0001\n",
    "\n",
    "logits, regularizer = LeNet(x)\n",
    "cross_entropy = tf.reduce_mean(tf.nn.softmax_cross_entropy_with_logits(labels=one_hot_y, logits=logits))\n",
    "loss_operation = tf.reduce_mean(cross_entropy + beta * regularizer)\n",
    "optimizer = tf.train.AdamOptimizer(learning_rate = rate)\n",
    "training_operation = optimizer.minimize(loss_operation)"
   ]
  },
  {
   "cell_type": "markdown",
   "metadata": {},
   "source": [
    "#### Model Evaluation\n",
    "Evaluate how well the loss and accuracy of the model for a given dataset."
   ]
  },
  {
   "cell_type": "code",
   "execution_count": 10,
   "metadata": {},
   "outputs": [],
   "source": [
    "correct_prediction = tf.equal(tf.argmax(logits, 1), tf.argmax(one_hot_y, 1))\n",
    "accuracy_operation = tf.reduce_mean(tf.cast(correct_prediction, tf.float32))\n",
    "saver = tf.train.Saver()\n",
    "\n",
    "def evaluate(x_data, y_data):\n",
    "    num_examples = len(x_data)\n",
    "    total_accuracy = 0\n",
    "    sess = tf.get_default_session()\n",
    "    for offset in range(0, num_examples, BATCH_SIZE):\n",
    "        batch_x, batch_y = x_data[offset:offset+BATCH_SIZE], y_data[offset:offset+BATCH_SIZE]\n",
    "        accuracy = sess.run(accuracy_operation, feed_dict={x: batch_x, y: batch_y, keep_prob_l1: 1.0, keep_prob_l2: 1.0, keep_prob_l3: 1.0, keep_prob_l4: 1.0})\n",
    "        total_accuracy += (accuracy * len(batch_x))\n",
    "    return total_accuracy / num_examples"
   ]
  },
  {
   "cell_type": "markdown",
   "metadata": {},
   "source": [
    "### Train, Validate and Test the Model"
   ]
  },
  {
   "cell_type": "markdown",
   "metadata": {},
   "source": [
    "A validation set can be used to assess how well the model is performing. A low accuracy on the training and validation\n",
    "sets imply underfitting. A high accuracy on the training set but low accuracy on the validation set implies overfitting."
   ]
  },
  {
   "cell_type": "code",
   "execution_count": 11,
   "metadata": {},
   "outputs": [
    {
     "name": "stdout",
     "output_type": "stream",
     "text": [
      "Training...\n",
      "\n",
      "EPOCH 1 ...\n",
      "Training Accuracy = 0.518\n",
      "Validation Accuracy = 0.514\n",
      "\n",
      "EPOCH 2 ...\n",
      "Training Accuracy = 0.787\n",
      "Validation Accuracy = 0.776\n",
      "\n",
      "EPOCH 3 ...\n",
      "Training Accuracy = 0.886\n",
      "Validation Accuracy = 0.881\n",
      "\n",
      "EPOCH 4 ...\n",
      "Training Accuracy = 0.939\n",
      "Validation Accuracy = 0.933\n",
      "\n",
      "EPOCH 5 ...\n",
      "Training Accuracy = 0.956\n",
      "Validation Accuracy = 0.951\n",
      "\n",
      "EPOCH 6 ...\n",
      "Training Accuracy = 0.970\n",
      "Validation Accuracy = 0.965\n",
      "\n",
      "EPOCH 7 ...\n",
      "Training Accuracy = 0.979\n",
      "Validation Accuracy = 0.975\n",
      "\n",
      "EPOCH 8 ...\n",
      "Training Accuracy = 0.985\n",
      "Validation Accuracy = 0.981\n",
      "\n",
      "EPOCH 9 ...\n",
      "Training Accuracy = 0.986\n",
      "Validation Accuracy = 0.981\n",
      "\n",
      "EPOCH 10 ...\n",
      "Training Accuracy = 0.989\n",
      "Validation Accuracy = 0.983\n",
      "\n",
      "EPOCH 11 ...\n",
      "Training Accuracy = 0.991\n",
      "Validation Accuracy = 0.986\n",
      "\n",
      "EPOCH 12 ...\n",
      "Training Accuracy = 0.993\n",
      "Validation Accuracy = 0.988\n",
      "\n",
      "EPOCH 13 ...\n",
      "Training Accuracy = 0.994\n",
      "Validation Accuracy = 0.990\n",
      "\n",
      "EPOCH 14 ...\n",
      "Training Accuracy = 0.996\n",
      "Validation Accuracy = 0.991\n",
      "\n",
      "Model saved\n"
     ]
    }
   ],
   "source": [
    "### Train your model here.\n",
    "### Calculate and report the accuracy on the training and validation set.\n",
    "### Once a final model architecture is selected, \n",
    "### the accuracy on the test set should be calculated and reported as well.\n",
    "### Feel free to use as many code cells as needed.\n",
    "with tf.Session() as sess:\n",
    "    sess.run(tf.global_variables_initializer())\n",
    "    num_examples = len(x_train)\n",
    "    \n",
    "    print(\"Training...\")\n",
    "    print()\n",
    "    for i in range(EPOCHS):\n",
    "        x_train, y_train = shuffle(x_train, y_train)\n",
    "        for offset in range(0, num_examples, BATCH_SIZE):\n",
    "            end = offset + BATCH_SIZE\n",
    "            batch_x, batch_y = x_train[offset:end], y_train[offset:end]\n",
    "            sess.run(training_operation, feed_dict={x: batch_x, y: batch_y, keep_prob_l1: 0.9, keep_prob_l2: 0.8, keep_prob_l3: 0.5, keep_prob_l4: 0.5})\n",
    "            \n",
    "        training_accuracy = evaluate(x_train,y_train)\n",
    "        validation_accuracy = evaluate(x_valid, y_valid)\n",
    "        print(\"EPOCH {} ...\".format(i+1))\n",
    "        print(\"Training Accuracy = {:.3f}\".format(training_accuracy))\n",
    "        print(\"Validation Accuracy = {:.3f}\".format(validation_accuracy))\n",
    "        print()\n",
    "        \n",
    "        # Early stopping if validation accuracy >=0.99\n",
    "        if validation_accuracy >= 0.99:\n",
    "            break\n",
    "        \n",
    "    saver.save(sess, './lenet')\n",
    "    print(\"Model saved\")"
   ]
  },
  {
   "cell_type": "markdown",
   "metadata": {},
   "source": [
    "In the code above validation and training accuracies are compared during epochs, in order to evaluate if model overfits the training data. If both accuracies are very different, it should be considered tunning dropout and/or regularization hyperparameters."
   ]
  },
  {
   "cell_type": "markdown",
   "metadata": {},
   "source": [
    "#### Evaluating the model against the test set"
   ]
  },
  {
   "cell_type": "code",
   "execution_count": 12,
   "metadata": {},
   "outputs": [
    {
     "name": "stdout",
     "output_type": "stream",
     "text": [
      "INFO:tensorflow:Restoring parameters from .\\lenet\n",
      "Test Accuracy = 0.943\n"
     ]
    }
   ],
   "source": [
    "with tf.Session() as sess:\n",
    "    saver.restore(sess, tf.train.latest_checkpoint('.'))\n",
    "\n",
    "    test_accuracy = evaluate(x_test, y_test)\n",
    "    print(\"Test Accuracy = {:.3f}\".format(test_accuracy))"
   ]
  },
  {
   "cell_type": "markdown",
   "metadata": {},
   "source": [
    "---\n",
    "\n",
    "## Step 3: Test a Model on New Images\n",
    "\n",
    "To give yourself more insight into how your model is working, download at least five pictures of German traffic signs from the web and use your model to predict the traffic sign type.\n",
    "\n",
    "You may find `signnames.csv` useful as it contains mappings from the class id (integer) to the actual sign name."
   ]
  },
  {
   "cell_type": "markdown",
   "metadata": {},
   "source": [
    "### Load and Output the Images"
   ]
  },
  {
   "cell_type": "markdown",
   "metadata": {},
   "source": [
    "In the next code there are some 5 images from internet are loaded, to be evaluated by the model. It has a pretty good quality and was selected randomly and resized to  32x32x3."
   ]
  },
  {
   "cell_type": "code",
   "execution_count": 13,
   "metadata": {},
   "outputs": [
    {
     "data": {
      "image/png": "[encoded data removed]",
      "text/plain": [
       "<matplotlib.figure.Figure at 0x21220bd7630>"
      ]
     },
     "metadata": {},
     "output_type": "display_data"
    },
    {
     "data": {
      "image/png": "[encoded data removed]",
      "text/plain": [
       "<matplotlib.figure.Figure at 0x212217c7dd8>"
      ]
     },
     "metadata": {},
     "output_type": "display_data"
    },
    {
     "data": {
      "image/png": "[encoded data removed]",
      "text/plain": [
       "<matplotlib.figure.Figure at 0x212217d34a8>"
      ]
     },
     "metadata": {},
     "output_type": "display_data"
    },
    {
     "data": {
      "image/png": "[encoded data removed]",
      "text/plain": [
       "<matplotlib.figure.Figure at 0x21221958780>"
      ]
     },
     "metadata": {},
     "output_type": "display_data"
    },
    {
     "data": {
      "image/png": "[encoded data removed]",
      "text/plain": [
       "<matplotlib.figure.Figure at 0x212217899b0>"
      ]
     },
     "metadata": {},
     "output_type": "display_data"
    }
   ],
   "source": [
    "### Load the images and plot them here.\n",
    "### Feel free to use as many code cells as needed.\n",
    "img1 = plt.imread('img1.png')\n",
    "img2 = plt.imread('img2.png')\n",
    "img3 = plt.imread('img3.png')\n",
    "img4 = plt.imread('img4.png')\n",
    "img5 = plt.imread('img5.png')\n",
    "\n",
    "plt.figure(figsize=(1,1))\n",
    "plt.imshow(img1)\n",
    "plt.figure(figsize=(1,1))\n",
    "plt.imshow(img2)\n",
    "plt.figure(figsize=(1,1))\n",
    "plt.imshow(img3)\n",
    "plt.figure(figsize=(1,1))\n",
    "plt.imshow(img4)\n",
    "plt.figure(figsize=(1,1))\n",
    "plt.imshow(img5)\n",
    "\n",
    "# Need to multiply by 255.0 since png images are read on a scale of [0,1]\n",
    "#correct values to measure accuracy\n",
    "x_img = np.array([img1,img2,img3,img4,img5])*255.0\n",
    "#normalize images\n",
    "x_img = preprocess_dataset(x_img)\n",
    "y_img = np.array([5,14,1,40,30])\n"
   ]
  },
  {
   "cell_type": "markdown",
   "metadata": {},
   "source": [
    "### Predict the Sign Type for Each Image"
   ]
  },
  {
   "cell_type": "code",
   "execution_count": 14,
   "metadata": {},
   "outputs": [
    {
     "name": "stdout",
     "output_type": "stream",
     "text": [
      "INFO:tensorflow:Restoring parameters from .\\lenet\n",
      "The predicted sign is: Speed limit (60km/h)  \n",
      " and the correct value is: Speed limit (80km/h)\n",
      "The predicted sign is: Stop  \n",
      " and the correct value is: Stop\n",
      "The predicted sign is: Speed limit (30km/h)  \n",
      " and the correct value is: Speed limit (30km/h)\n",
      "The predicted sign is: Right-of-way at the next intersection  \n",
      " and the correct value is: Roundabout mandatory\n",
      "The predicted sign is: Children crossing  \n",
      " and the correct value is: Beware of ice/snow\n"
     ]
    }
   ],
   "source": [
    "### Run the predictions here and use the model to output the prediction for each image.\n",
    "### Make sure to pre-process the images with the same pre-processing pipeline used earlier.\n",
    "### Feel free to use as many code cells as needed.\n",
    "import csv\n",
    "\n",
    "def printPredictionSignName(prediction,correctValue):\n",
    "    found = 0\n",
    "    with open('signnames.csv') as f:\n",
    "        reader = csv.DictReader(f)\n",
    "        for row in reader:\n",
    "            if np.int(row[\"ClassId\"]) == prediction:\n",
    "                signName = row[\"SignName\"]\n",
    "                found = found + 1\n",
    "            if np.int(row[\"ClassId\"]) == correctValue:\n",
    "                signCorrectName = row[\"SignName\"]\n",
    "                found = found + 1\n",
    "            if found == 2:\n",
    "                break\n",
    "    print(\"The predicted sign is:\", signName,\" \\n and the correct value is:\",signCorrectName)\n",
    "    \n",
    "single_prediction = tf.argmax(logits, 1)\n",
    "with tf.Session() as sess:\n",
    "    saver.restore(sess, tf.train.latest_checkpoint('.'))\n",
    "    prediction = sess.run(single_prediction, feed_dict={x: x_img, keep_prob_l1: 1.0, keep_prob_l2: 1.0, keep_prob_l3: 1.0, keep_prob_l4: 1.0})\n",
    "    for i in range(0,len(y_img)):\n",
    "        predValue,testValue = prediction[i],y_img[i]\n",
    "        printPredictionSignName(predValue,testValue)"
   ]
  },
  {
   "cell_type": "markdown",
   "metadata": {},
   "source": [
    "### Analyze Performance"
   ]
  },
  {
   "cell_type": "code",
   "execution_count": 15,
   "metadata": {},
   "outputs": [
    {
     "name": "stdout",
     "output_type": "stream",
     "text": [
      "INFO:tensorflow:Restoring parameters from .\\lenet\n",
      "Test Accuracy = 0.400\n"
     ]
    }
   ],
   "source": [
    "### Calculate the accuracy for these 5 new images. \n",
    "### For example, if the model predicted 1 out of 5 signs correctly, it's 20% accurate on these new images.\n",
    "with tf.Session() as sess:\n",
    "    saver.restore(sess, tf.train.latest_checkpoint('.'))\n",
    "    test_accuracy = evaluate(x_img, y_img)\n",
    "    print(\"Test Accuracy = {:.3f}\".format(test_accuracy))"
   ]
  },
  {
   "cell_type": "markdown",
   "metadata": {},
   "source": [
    "### Output Top 5 Softmax Probabilities For Each Image Found on the Web"
   ]
  },
  {
   "cell_type": "markdown",
   "metadata": {},
   "source": [
    "For each of the new images, print out the model's softmax probabilities to show the **certainty** of the model's predictions (limit the output to the top 5 probabilities for each image). [`tf.nn.top_k`](https://www.tensorflow.org/versions/r0.12/api_docs/python/nn.html#top_k) could prove helpful here. \n",
    "\n",
    "The example below demonstrates how tf.nn.top_k can be used to find the top k predictions for each image.\n",
    "\n",
    "`tf.nn.top_k` will return the values and indices (class ids) of the top k predictions. So if k=3, for each sign, it'll return the 3 largest probabilities (out of a possible 43) and the correspoding class ids.\n",
    "\n",
    "Take this numpy array as an example. The values in the array represent predictions. The array contains softmax probabilities for five candidate images with six possible classes. `tf.nn.top_k` is used to choose the three classes with the highest probability:\n",
    "\n",
    "```\n",
    "# (5, 6) array\n",
    "a = np.array([[ 0.24879643,  0.07032244,  0.12641572,  0.34763842,  0.07893497,\n",
    "         0.12789202],\n",
    "       [ 0.28086119,  0.27569815,  0.08594638,  0.0178669 ,  0.18063401,\n",
    "         0.15899337],\n",
    "       [ 0.26076848,  0.23664738,  0.08020603,  0.07001922,  0.1134371 ,\n",
    "         0.23892179],\n",
    "       [ 0.11943333,  0.29198961,  0.02605103,  0.26234032,  0.1351348 ,\n",
    "         0.16505091],\n",
    "       [ 0.09561176,  0.34396535,  0.0643941 ,  0.16240774,  0.24206137,\n",
    "         0.09155967]])\n",
    "```\n",
    "\n",
    "Running it through `sess.run(tf.nn.top_k(tf.constant(a), k=3))` produces:\n",
    "\n",
    "```\n",
    "TopKV2(values=array([[ 0.34763842,  0.24879643,  0.12789202],\n",
    "       [ 0.28086119,  0.27569815,  0.18063401],\n",
    "       [ 0.26076848,  0.23892179,  0.23664738],\n",
    "       [ 0.29198961,  0.26234032,  0.16505091],\n",
    "       [ 0.34396535,  0.24206137,  0.16240774]]), indices=array([[3, 0, 5],\n",
    "       [0, 1, 4],\n",
    "       [0, 5, 1],\n",
    "       [1, 3, 5],\n",
    "       [1, 4, 3]], dtype=int32))\n",
    "```\n",
    "\n",
    "Looking just at the first row we get `[ 0.34763842,  0.24879643,  0.12789202]`, you can confirm these are the 3 largest probabilities in `a`. You'll also notice `[3, 0, 5]` are the corresponding indices."
   ]
  },
  {
   "cell_type": "code",
   "execution_count": 16,
   "metadata": {},
   "outputs": [
    {
     "name": "stdout",
     "output_type": "stream",
     "text": [
      "INFO:tensorflow:Restoring parameters from .\\lenet\n",
      "Five highest probabilities for each image: \n",
      " [[  2.79116058   2.45666099   1.19829082   1.15188694   1.00817776]\n",
      " [  8.19834042   2.95617819   1.92196345   1.2629019    0.40708071]\n",
      " [  7.73465252   5.39038277   2.29043794   1.88790333   1.16086185]\n",
      " [  5.52391911   5.08892918   4.28639507   3.19495249   2.79943943]\n",
      " [ 12.12100315   7.6113019    6.87307358   4.70809603   3.52990317]]\n",
      "Five most probable predictions for each image: \n",
      " [[ 3 36  1  0 35]\n",
      " [14  1  2 33  4]\n",
      " [ 1  0 32 14 40]\n",
      " [11 12 40 30 42]\n",
      " [28 23 30 20 29]]\n",
      "Expected values: \n",
      " [ 5 14  1 40 30]\n"
     ]
    }
   ],
   "source": [
    "### Print out the top five softmax probabilities for the predictions on the German traffic sign images found on the web. \n",
    "### Feel free to use as many code cells as needed.\n",
    "top5_prediction = tf.nn.top_k(logits, k=5)\n",
    "with tf.Session() as sess:\n",
    "    saver.restore(sess, tf.train.latest_checkpoint('.'))\n",
    "    accuracy,indices = sess.run(top5_prediction, feed_dict={x: x_img, keep_prob_l1: 1.0, keep_prob_l2: 1.0, keep_prob_l3: 1.0, keep_prob_l4: 1.0})\n",
    "    print(\"Five highest probabilities for each image: \\n\",accuracy)\n",
    "    print(\"Five most probable predictions for each image: \\n\",indices)\n",
    "    print(\"Expected values: \\n\",y_img)"
   ]
  },
  {
   "cell_type": "markdown",
   "metadata": {},
   "source": [
    "As can be seen in the results above, the correct prediction for all test images is in the list of top five predictions, except for the first image, however it could be easily missinterpreted as a 60 km/h sign. One point to improve is better rescale the image or find another with better resolution."
   ]
  },
  {
   "cell_type": "markdown",
   "metadata": {},
   "source": [
    "---\n",
    "\n",
    "## Step 4 (Optional): Visualize the Neural Network's State with Test Images\n",
    "\n",
    " This Section is not required to complete but acts as an additional excersise for understaning the output of a neural network's weights. While neural networks can be a great learning device they are often referred to as a black box. We can understand what the weights of a neural network look like better by plotting their feature maps. After successfully training your neural network you can see what it's feature maps look like by plotting the output of the network's weight layers in response to a test stimuli image. From these plotted feature maps, it's possible to see what characteristics of an image the network finds interesting. For a sign, maybe the inner network feature maps react with high activation to the sign's boundary outline or to the contrast in the sign's painted symbol.\n",
    "\n",
    " Provided for you below is the function code that allows you to get the visualization output of any tensorflow weight layer you want. The inputs to the function should be a stimuli image, one used during training or a new one you provided, and then the tensorflow variable name that represents the layer's state during the training process, for instance if you wanted to see what the [LeNet lab's](https://classroom.udacity.com/nanodegrees/nd013/parts/fbf77062-5703-404e-b60c-95b78b2f3f9e/modules/6df7ae49-c61c-4bb2-a23e-6527e69209ec/lessons/601ae704-1035-4287-8b11-e2c2716217ad/concepts/d4aca031-508f-4e0b-b493-e7b706120f81) feature maps looked like for it's second convolutional layer you could enter conv2 as the tf_activation variable.\n",
    "\n",
    "For an example of what feature map outputs look like, check out NVIDIA's results in their paper [End-to-End Deep Learning for Self-Driving Cars](https://devblogs.nvidia.com/parallelforall/deep-learning-self-driving-cars/) in the section Visualization of internal CNN State. NVIDIA was able to show that their network's inner weights had high activations to road boundary lines by comparing feature maps from an image with a clear path to one without. Try experimenting with a similar test to show that your trained network's weights are looking for interesting features, whether it's looking at differences in feature maps from images with or without a sign, or even what feature maps look like in a trained network vs a completely untrained one on the same sign image.\n",
    "\n",
    "<figure>\n",
    " <img src=\"visualize_cnn.png\" width=\"380\" alt=\"Combined Image\" />\n",
    " <figcaption>\n",
    " <p></p> \n",
    " <p style=\"text-align: center;\"> Your output should look something like this (above)</p> \n",
    " </figcaption>\n",
    "</figure>\n",
    " <p></p> \n"
   ]
  },
  {
   "cell_type": "code",
   "execution_count": 24,
   "metadata": {},
   "outputs": [
    {
     "name": "stdout",
     "output_type": "stream",
     "text": [
      "INFO:tensorflow:Restoring parameters from .\\lenet\n",
      "Print second convolutional layer result...\n"
     ]
    },
    {
     "data": {
      "image/png": "[encoded data removed]",
      "text/plain": [
       "<matplotlib.figure.Figure at 0x21213e11a20>"
      ]
     },
     "metadata": {},
     "output_type": "display_data"
    }
   ],
   "source": [
    "### Visualize your network's feature maps here.\n",
    "### Feel free to use as many code cells as needed.\n",
    "\n",
    "# image_input: the test image being fed into the network to produce the feature maps\n",
    "# tf_activation: should be a tf variable name used during your training procedure that represents the calculated state of a specific weight layer\n",
    "# activation_min/max: can be used to view the activation contrast in more detail, by default matplot sets min and max to the actual min and max values of the output\n",
    "# plt_num: used to plot out multiple different weight feature map sets on the same block, just extend the plt number for each new feature map entry\n",
    "\n",
    "def outputFeatureMap(image_input, tf_activation, activation_min=-1, activation_max=-1 ,plt_num=1):\n",
    "    # Here make sure to preprocess your image_input in a way your network expects\n",
    "    # with size, normalization, ect if needed\n",
    "    # image_input =\n",
    "    # Note: x should be the same name as your network's tensorflow data placeholder variable\n",
    "    # If you get an error tf_activation is not defined it may be having trouble accessing the variable from inside a function\n",
    "    activation = tf_activation.eval(session=sess,feed_dict={x : image_input, keep_prob_l1: 1.0, keep_prob_l2: 1.0, keep_prob_l3: 1.0, keep_prob_l4: 1.0})\n",
    "    featuremaps = activation.shape[3]\n",
    "    plt.figure(plt_num, figsize=(15,15))\n",
    "    for featuremap in range(featuremaps):\n",
    "        plt.subplot(6,8, featuremap+1) # sets the number of feature maps to show on each row and column\n",
    "        plt.title('FeatureMap ' + str(featuremap)) # displays the feature map number\n",
    "        if activation_min != -1 & activation_max != -1:\n",
    "            plt.imshow(activation[0,:,:, featuremap], interpolation=\"nearest\", vmin =activation_min, vmax=activation_max, cmap=\"gray\")\n",
    "        elif activation_max != -1:\n",
    "            plt.imshow(activation[0,:,:, featuremap], interpolation=\"nearest\", vmax=activation_max, cmap=\"gray\")\n",
    "        elif activation_min !=-1:\n",
    "            plt.imshow(activation[0,:,:, featuremap], interpolation=\"nearest\", vmin=activation_min, cmap=\"gray\")\n",
    "        else:\n",
    "            plt.imshow(activation[0,:,:, featuremap], interpolation=\"nearest\", cmap=\"gray\")\n",
    "\n",
    "with tf.Session() as sess:\n",
    "    new_saver = tf.train.import_meta_graph('./lenet.meta')\n",
    "    new_saver.restore(sess, tf.train.latest_checkpoint('.'))\n",
    "\n",
    "    #normalize image\n",
    "    image_input = np.reshape(img2, (1, ) + img2.shape)\n",
    "    image_input = preprocess_dataset(image_input)\n",
    "    \n",
    "    print(\"Print second convolutional layer result...\")\n",
    "    conv2 = tf.get_default_graph().get_tensor_by_name(\"conv2_W:0\")\n",
    "    outputFeatureMap(image_input,conv2)"
   ]
  },
  {
   "cell_type": "code",
   "execution_count": null,
   "metadata": {
    "collapsed": true
   },
   "outputs": [],
   "source": []
  }
 ],
 "metadata": {
  "anaconda-cloud": {},
  "kernelspec": {
   "display_name": "Python [conda env:tensorflow]",
   "language": "python",
   "name": "conda-env-tensorflow-py"
  },
  "language_info": {
   "codemirror_mode": {
    "name": "ipython",
    "version": 3
   },
   "file_extension": ".py",
   "mimetype": "text/x-python",
   "name": "python",
   "nbconvert_exporter": "python",
   "pygments_lexer": "ipython3",
   "version": "3.5.3"
  }
 },
 "nbformat": 4,
 "nbformat_minor": 1
}
